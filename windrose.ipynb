{
 "cells": [
  {
   "cell_type": "code",
   "execution_count": 8,
   "metadata": {},
   "outputs": [],
   "source": [
    "import pandas as pd\n",
    "import numpy as np\n",
    "from matplotlib import pyplot as plt\n",
    "import matplotlib.pyplot as plt\n",
    "from math import pi\n",
    "from windrose import WindroseAxes\n",
    "import plotly.graph_objects as go"
   ]
  },
  {
   "cell_type": "code",
   "execution_count": 9,
   "metadata": {},
   "outputs": [
    {
     "data": {
      "text/html": [
       "<div>\n",
       "<style scoped>\n",
       "    .dataframe tbody tr th:only-of-type {\n",
       "        vertical-align: middle;\n",
       "    }\n",
       "\n",
       "    .dataframe tbody tr th {\n",
       "        vertical-align: top;\n",
       "    }\n",
       "\n",
       "    .dataframe thead th {\n",
       "        text-align: right;\n",
       "    }\n",
       "</style>\n",
       "<table border=\"1\" class=\"dataframe\">\n",
       "  <thead>\n",
       "    <tr style=\"text-align: right;\">\n",
       "      <th></th>\n",
       "      <th>0.0</th>\n",
       "      <th>22.5</th>\n",
       "      <th>45.0</th>\n",
       "      <th>67.5</th>\n",
       "      <th>90.0</th>\n",
       "      <th>112.5</th>\n",
       "      <th>135.0</th>\n",
       "      <th>157.5</th>\n",
       "      <th>180.0</th>\n",
       "      <th>202.5</th>\n",
       "      <th>225.0</th>\n",
       "      <th>247.5</th>\n",
       "      <th>270.0</th>\n",
       "      <th>292.5</th>\n",
       "      <th>315.0</th>\n",
       "      <th>337.5</th>\n",
       "    </tr>\n",
       "    <tr>\n",
       "      <th>Distance</th>\n",
       "      <th></th>\n",
       "      <th></th>\n",
       "      <th></th>\n",
       "      <th></th>\n",
       "      <th></th>\n",
       "      <th></th>\n",
       "      <th></th>\n",
       "      <th></th>\n",
       "      <th></th>\n",
       "      <th></th>\n",
       "      <th></th>\n",
       "      <th></th>\n",
       "      <th></th>\n",
       "      <th></th>\n",
       "      <th></th>\n",
       "      <th></th>\n",
       "    </tr>\n",
       "  </thead>\n",
       "  <tbody>\n",
       "    <tr>\n",
       "      <th>300m</th>\n",
       "      <td>10.300000</td>\n",
       "      <td>8.540000</td>\n",
       "      <td>2.740000</td>\n",
       "      <td>1.540000</td>\n",
       "      <td>1.540000</td>\n",
       "      <td>0.83800</td>\n",
       "      <td>1.68000</td>\n",
       "      <td>1.68000</td>\n",
       "      <td>3.50000</td>\n",
       "      <td>8.66</td>\n",
       "      <td>3.670</td>\n",
       "      <td>3.800</td>\n",
       "      <td>4.29000</td>\n",
       "      <td>3.94000</td>\n",
       "      <td>3.640000</td>\n",
       "      <td>6.750000</td>\n",
       "    </tr>\n",
       "    <tr>\n",
       "      <th>500m</th>\n",
       "      <td>7.020000</td>\n",
       "      <td>5.730000</td>\n",
       "      <td>1.800000</td>\n",
       "      <td>1.030000</td>\n",
       "      <td>1.030000</td>\n",
       "      <td>0.57200</td>\n",
       "      <td>1.15000</td>\n",
       "      <td>1.15000</td>\n",
       "      <td>2.52000</td>\n",
       "      <td>6.27</td>\n",
       "      <td>2.570</td>\n",
       "      <td>2.590</td>\n",
       "      <td>2.96000</td>\n",
       "      <td>2.71000</td>\n",
       "      <td>2.470000</td>\n",
       "      <td>4.570000</td>\n",
       "    </tr>\n",
       "    <tr>\n",
       "      <th>1km</th>\n",
       "      <td>2.960000</td>\n",
       "      <td>2.480000</td>\n",
       "      <td>0.801000</td>\n",
       "      <td>0.452000</td>\n",
       "      <td>0.452000</td>\n",
       "      <td>0.24200</td>\n",
       "      <td>0.48600</td>\n",
       "      <td>0.48600</td>\n",
       "      <td>1.02000</td>\n",
       "      <td>2.51</td>\n",
       "      <td>1.060</td>\n",
       "      <td>1.080</td>\n",
       "      <td>1.21000</td>\n",
       "      <td>1.11000</td>\n",
       "      <td>1.040000</td>\n",
       "      <td>1.950000</td>\n",
       "    </tr>\n",
       "    <tr>\n",
       "      <th>1.5 km</th>\n",
       "      <td>1.700000</td>\n",
       "      <td>1.450000</td>\n",
       "      <td>0.479000</td>\n",
       "      <td>0.268000</td>\n",
       "      <td>0.268000</td>\n",
       "      <td>0.13900</td>\n",
       "      <td>0.27800</td>\n",
       "      <td>0.27800</td>\n",
       "      <td>0.00000</td>\n",
       "      <td>1.35</td>\n",
       "      <td>0.589</td>\n",
       "      <td>0.616</td>\n",
       "      <td>0.68000</td>\n",
       "      <td>0.62900</td>\n",
       "      <td>0.600000</td>\n",
       "      <td>1.130000</td>\n",
       "    </tr>\n",
       "    <tr>\n",
       "      <th>2 km</th>\n",
       "      <td>1.160000</td>\n",
       "      <td>1.010000</td>\n",
       "      <td>0.341000</td>\n",
       "      <td>0.188000</td>\n",
       "      <td>0.188000</td>\n",
       "      <td>0.09470</td>\n",
       "      <td>0.18900</td>\n",
       "      <td>0.18900</td>\n",
       "      <td>0.00000</td>\n",
       "      <td>0.00</td>\n",
       "      <td>0.387</td>\n",
       "      <td>0.419</td>\n",
       "      <td>0.45600</td>\n",
       "      <td>0.42500</td>\n",
       "      <td>0.412000</td>\n",
       "      <td>0.778000</td>\n",
       "    </tr>\n",
       "    <tr>\n",
       "      <th>2.5 km</th>\n",
       "      <td>0.905000</td>\n",
       "      <td>0.801000</td>\n",
       "      <td>0.273000</td>\n",
       "      <td>0.150000</td>\n",
       "      <td>0.150000</td>\n",
       "      <td>0.07340</td>\n",
       "      <td>0.14600</td>\n",
       "      <td>0.09450</td>\n",
       "      <td>0.00000</td>\n",
       "      <td>0.00</td>\n",
       "      <td>0.290</td>\n",
       "      <td>0.324</td>\n",
       "      <td>0.34800</td>\n",
       "      <td>0.32600</td>\n",
       "      <td>0.321000</td>\n",
       "      <td>0.608000</td>\n",
       "    </tr>\n",
       "    <tr>\n",
       "      <th>3 km</th>\n",
       "      <td>0.732000</td>\n",
       "      <td>0.655000</td>\n",
       "      <td>0.226000</td>\n",
       "      <td>0.123000</td>\n",
       "      <td>0.123000</td>\n",
       "      <td>0.05910</td>\n",
       "      <td>0.11700</td>\n",
       "      <td>0.00000</td>\n",
       "      <td>0.00000</td>\n",
       "      <td>0.00</td>\n",
       "      <td>0.000</td>\n",
       "      <td>0.000</td>\n",
       "      <td>0.00000</td>\n",
       "      <td>0.26100</td>\n",
       "      <td>0.260000</td>\n",
       "      <td>0.494000</td>\n",
       "    </tr>\n",
       "    <tr>\n",
       "      <th>3.5 km</th>\n",
       "      <td>0.623000</td>\n",
       "      <td>0.564000</td>\n",
       "      <td>0.197000</td>\n",
       "      <td>0.107000</td>\n",
       "      <td>0.107000</td>\n",
       "      <td>0.05030</td>\n",
       "      <td>0.09910</td>\n",
       "      <td>0.00000</td>\n",
       "      <td>0.00000</td>\n",
       "      <td>0.00</td>\n",
       "      <td>0.000</td>\n",
       "      <td>0.000</td>\n",
       "      <td>0.00000</td>\n",
       "      <td>0.22000</td>\n",
       "      <td>0.222000</td>\n",
       "      <td>0.422000</td>\n",
       "    </tr>\n",
       "    <tr>\n",
       "      <th>4 km</th>\n",
       "      <td>0.533000</td>\n",
       "      <td>0.487000</td>\n",
       "      <td>0.171000</td>\n",
       "      <td>0.092400</td>\n",
       "      <td>0.092400</td>\n",
       "      <td>0.04290</td>\n",
       "      <td>0.08440</td>\n",
       "      <td>0.00000</td>\n",
       "      <td>0.00000</td>\n",
       "      <td>0.00</td>\n",
       "      <td>0.000</td>\n",
       "      <td>0.000</td>\n",
       "      <td>0.00000</td>\n",
       "      <td>0.18700</td>\n",
       "      <td>0.190000</td>\n",
       "      <td>0.362000</td>\n",
       "    </tr>\n",
       "    <tr>\n",
       "      <th>4.5 km</th>\n",
       "      <td>0.469000</td>\n",
       "      <td>0.431000</td>\n",
       "      <td>0.153000</td>\n",
       "      <td>0.082100</td>\n",
       "      <td>0.082100</td>\n",
       "      <td>0.03770</td>\n",
       "      <td>0.07400</td>\n",
       "      <td>0.00000</td>\n",
       "      <td>0.00000</td>\n",
       "      <td>0.00</td>\n",
       "      <td>0.000</td>\n",
       "      <td>0.000</td>\n",
       "      <td>0.00000</td>\n",
       "      <td>0.16400</td>\n",
       "      <td>0.168000</td>\n",
       "      <td>0.319000</td>\n",
       "    </tr>\n",
       "    <tr>\n",
       "      <th>5 km</th>\n",
       "      <td>0.420000</td>\n",
       "      <td>0.389000</td>\n",
       "      <td>0.139000</td>\n",
       "      <td>0.074200</td>\n",
       "      <td>0.074200</td>\n",
       "      <td>0.03380</td>\n",
       "      <td>0.06620</td>\n",
       "      <td>0.00000</td>\n",
       "      <td>0.00000</td>\n",
       "      <td>0.00</td>\n",
       "      <td>0.000</td>\n",
       "      <td>0.000</td>\n",
       "      <td>0.00000</td>\n",
       "      <td>0.14600</td>\n",
       "      <td>0.151000</td>\n",
       "      <td>0.287000</td>\n",
       "    </tr>\n",
       "    <tr>\n",
       "      <th>6 km</th>\n",
       "      <td>0.336000</td>\n",
       "      <td>0.313000</td>\n",
       "      <td>0.113000</td>\n",
       "      <td>0.060100</td>\n",
       "      <td>0.060100</td>\n",
       "      <td>0.02690</td>\n",
       "      <td>0.05260</td>\n",
       "      <td>0.00000</td>\n",
       "      <td>0.00000</td>\n",
       "      <td>0.00</td>\n",
       "      <td>0.000</td>\n",
       "      <td>0.000</td>\n",
       "      <td>0.00000</td>\n",
       "      <td>0.11600</td>\n",
       "      <td>0.121000</td>\n",
       "      <td>0.230000</td>\n",
       "    </tr>\n",
       "    <tr>\n",
       "      <th>7 km</th>\n",
       "      <td>0.281000</td>\n",
       "      <td>0.264000</td>\n",
       "      <td>0.095400</td>\n",
       "      <td>0.050800</td>\n",
       "      <td>0.050800</td>\n",
       "      <td>0.02250</td>\n",
       "      <td>0.04390</td>\n",
       "      <td>0.00000</td>\n",
       "      <td>0.00000</td>\n",
       "      <td>0.00</td>\n",
       "      <td>0.000</td>\n",
       "      <td>0.000</td>\n",
       "      <td>0.00000</td>\n",
       "      <td>0.09670</td>\n",
       "      <td>0.101000</td>\n",
       "      <td>0.193000</td>\n",
       "    </tr>\n",
       "    <tr>\n",
       "      <th>8 km</th>\n",
       "      <td>0.239000</td>\n",
       "      <td>0.225000</td>\n",
       "      <td>0.081800</td>\n",
       "      <td>0.043400</td>\n",
       "      <td>0.043400</td>\n",
       "      <td>0.01910</td>\n",
       "      <td>0.03720</td>\n",
       "      <td>0.00000</td>\n",
       "      <td>0.00000</td>\n",
       "      <td>0.00</td>\n",
       "      <td>0.000</td>\n",
       "      <td>0.000</td>\n",
       "      <td>0.00000</td>\n",
       "      <td>0.08190</td>\n",
       "      <td>0.086000</td>\n",
       "      <td>0.164000</td>\n",
       "    </tr>\n",
       "    <tr>\n",
       "      <th>9 km</th>\n",
       "      <td>0.205000</td>\n",
       "      <td>0.194000</td>\n",
       "      <td>0.070600</td>\n",
       "      <td>0.037400</td>\n",
       "      <td>0.037400</td>\n",
       "      <td>0.01640</td>\n",
       "      <td>0.03180</td>\n",
       "      <td>0.03180</td>\n",
       "      <td>0.00000</td>\n",
       "      <td>0.00</td>\n",
       "      <td>0.000</td>\n",
       "      <td>0.000</td>\n",
       "      <td>0.00000</td>\n",
       "      <td>0.07000</td>\n",
       "      <td>0.073800</td>\n",
       "      <td>0.141000</td>\n",
       "    </tr>\n",
       "    <tr>\n",
       "      <th>10 km</th>\n",
       "      <td>0.179000</td>\n",
       "      <td>0.170000</td>\n",
       "      <td>0.062100</td>\n",
       "      <td>0.032900</td>\n",
       "      <td>0.032900</td>\n",
       "      <td>0.01430</td>\n",
       "      <td>0.02780</td>\n",
       "      <td>0.02780</td>\n",
       "      <td>0.00000</td>\n",
       "      <td>0.00</td>\n",
       "      <td>0.000</td>\n",
       "      <td>0.000</td>\n",
       "      <td>0.00000</td>\n",
       "      <td>0.06110</td>\n",
       "      <td>0.064600</td>\n",
       "      <td>0.123000</td>\n",
       "    </tr>\n",
       "    <tr>\n",
       "      <th>12 km</th>\n",
       "      <td>0.137000</td>\n",
       "      <td>0.130000</td>\n",
       "      <td>0.047800</td>\n",
       "      <td>0.025200</td>\n",
       "      <td>0.025200</td>\n",
       "      <td>0.01090</td>\n",
       "      <td>0.02120</td>\n",
       "      <td>0.02120</td>\n",
       "      <td>0.00000</td>\n",
       "      <td>0.00</td>\n",
       "      <td>0.000</td>\n",
       "      <td>0.000</td>\n",
       "      <td>0.04790</td>\n",
       "      <td>0.04660</td>\n",
       "      <td>0.049400</td>\n",
       "      <td>0.094500</td>\n",
       "    </tr>\n",
       "    <tr>\n",
       "      <th>15 km</th>\n",
       "      <td>0.100000</td>\n",
       "      <td>0.095600</td>\n",
       "      <td>0.035200</td>\n",
       "      <td>0.018500</td>\n",
       "      <td>0.018500</td>\n",
       "      <td>0.00798</td>\n",
       "      <td>0.01540</td>\n",
       "      <td>0.01540</td>\n",
       "      <td>0.00000</td>\n",
       "      <td>0.00</td>\n",
       "      <td>0.000</td>\n",
       "      <td>0.000</td>\n",
       "      <td>0.03480</td>\n",
       "      <td>0.03400</td>\n",
       "      <td>0.036200</td>\n",
       "      <td>0.069100</td>\n",
       "    </tr>\n",
       "    <tr>\n",
       "      <th>17 km</th>\n",
       "      <td>0.081800</td>\n",
       "      <td>0.078200</td>\n",
       "      <td>0.028800</td>\n",
       "      <td>0.015200</td>\n",
       "      <td>0.015200</td>\n",
       "      <td>0.00652</td>\n",
       "      <td>0.01260</td>\n",
       "      <td>0.01260</td>\n",
       "      <td>0.00000</td>\n",
       "      <td>0.00</td>\n",
       "      <td>0.000</td>\n",
       "      <td>0.000</td>\n",
       "      <td>0.02840</td>\n",
       "      <td>0.02780</td>\n",
       "      <td>0.029600</td>\n",
       "      <td>0.056500</td>\n",
       "    </tr>\n",
       "    <tr>\n",
       "      <th>20 km</th>\n",
       "      <td>0.063600</td>\n",
       "      <td>0.060800</td>\n",
       "      <td>0.022400</td>\n",
       "      <td>0.011800</td>\n",
       "      <td>0.011800</td>\n",
       "      <td>0.00506</td>\n",
       "      <td>0.00979</td>\n",
       "      <td>0.00979</td>\n",
       "      <td>0.00000</td>\n",
       "      <td>0.00</td>\n",
       "      <td>0.000</td>\n",
       "      <td>0.000</td>\n",
       "      <td>0.02210</td>\n",
       "      <td>0.02160</td>\n",
       "      <td>0.023000</td>\n",
       "      <td>0.043900</td>\n",
       "    </tr>\n",
       "    <tr>\n",
       "      <th>22 km</th>\n",
       "      <td>0.054000</td>\n",
       "      <td>0.051700</td>\n",
       "      <td>0.019100</td>\n",
       "      <td>0.010000</td>\n",
       "      <td>0.010000</td>\n",
       "      <td>0.00430</td>\n",
       "      <td>0.00832</td>\n",
       "      <td>0.00832</td>\n",
       "      <td>0.01020</td>\n",
       "      <td>0.00</td>\n",
       "      <td>0.000</td>\n",
       "      <td>0.000</td>\n",
       "      <td>0.01870</td>\n",
       "      <td>0.01830</td>\n",
       "      <td>0.019500</td>\n",
       "      <td>0.037300</td>\n",
       "    </tr>\n",
       "    <tr>\n",
       "      <th>25 km</th>\n",
       "      <td>0.043700</td>\n",
       "      <td>0.041900</td>\n",
       "      <td>0.015400</td>\n",
       "      <td>0.008130</td>\n",
       "      <td>0.008130</td>\n",
       "      <td>0.00348</td>\n",
       "      <td>0.00000</td>\n",
       "      <td>0.00000</td>\n",
       "      <td>0.00828</td>\n",
       "      <td>0.00</td>\n",
       "      <td>0.000</td>\n",
       "      <td>0.000</td>\n",
       "      <td>0.01520</td>\n",
       "      <td>0.01480</td>\n",
       "      <td>0.015800</td>\n",
       "      <td>0.030200</td>\n",
       "    </tr>\n",
       "    <tr>\n",
       "      <th>27km</th>\n",
       "      <td>0.038100</td>\n",
       "      <td>0.036400</td>\n",
       "      <td>0.013400</td>\n",
       "      <td>0.007070</td>\n",
       "      <td>0.007070</td>\n",
       "      <td>0.00000</td>\n",
       "      <td>0.00000</td>\n",
       "      <td>0.00000</td>\n",
       "      <td>0.00721</td>\n",
       "      <td>0.00</td>\n",
       "      <td>0.000</td>\n",
       "      <td>0.000</td>\n",
       "      <td>0.01320</td>\n",
       "      <td>0.01290</td>\n",
       "      <td>0.013800</td>\n",
       "      <td>0.026300</td>\n",
       "    </tr>\n",
       "    <tr>\n",
       "      <th>30 km</th>\n",
       "      <td>0.031600</td>\n",
       "      <td>0.030300</td>\n",
       "      <td>0.011200</td>\n",
       "      <td>0.005870</td>\n",
       "      <td>0.005870</td>\n",
       "      <td>0.00000</td>\n",
       "      <td>0.00000</td>\n",
       "      <td>0.00000</td>\n",
       "      <td>0.00000</td>\n",
       "      <td>0.00</td>\n",
       "      <td>0.000</td>\n",
       "      <td>0.000</td>\n",
       "      <td>0.01100</td>\n",
       "      <td>0.01070</td>\n",
       "      <td>0.011400</td>\n",
       "      <td>0.021800</td>\n",
       "    </tr>\n",
       "    <tr>\n",
       "      <th>35 km</th>\n",
       "      <td>0.024000</td>\n",
       "      <td>0.022900</td>\n",
       "      <td>0.008460</td>\n",
       "      <td>0.004450</td>\n",
       "      <td>0.004450</td>\n",
       "      <td>0.00000</td>\n",
       "      <td>0.00000</td>\n",
       "      <td>0.00000</td>\n",
       "      <td>0.00000</td>\n",
       "      <td>0.00</td>\n",
       "      <td>0.000</td>\n",
       "      <td>0.000</td>\n",
       "      <td>0.00831</td>\n",
       "      <td>0.00812</td>\n",
       "      <td>0.008670</td>\n",
       "      <td>0.016600</td>\n",
       "    </tr>\n",
       "    <tr>\n",
       "      <th>40 km</th>\n",
       "      <td>0.018800</td>\n",
       "      <td>0.018000</td>\n",
       "      <td>0.006630</td>\n",
       "      <td>0.003490</td>\n",
       "      <td>0.003490</td>\n",
       "      <td>0.00277</td>\n",
       "      <td>0.00000</td>\n",
       "      <td>0.00000</td>\n",
       "      <td>0.00000</td>\n",
       "      <td>0.00</td>\n",
       "      <td>0.000</td>\n",
       "      <td>0.000</td>\n",
       "      <td>0.00000</td>\n",
       "      <td>0.00636</td>\n",
       "      <td>0.006790</td>\n",
       "      <td>0.013000</td>\n",
       "    </tr>\n",
       "    <tr>\n",
       "      <th>45 km</th>\n",
       "      <td>0.014900</td>\n",
       "      <td>0.014300</td>\n",
       "      <td>0.005260</td>\n",
       "      <td>0.002770</td>\n",
       "      <td>0.002770</td>\n",
       "      <td>0.00119</td>\n",
       "      <td>0.00000</td>\n",
       "      <td>0.00000</td>\n",
       "      <td>0.00000</td>\n",
       "      <td>0.00</td>\n",
       "      <td>0.000</td>\n",
       "      <td>0.000</td>\n",
       "      <td>0.00000</td>\n",
       "      <td>0.00505</td>\n",
       "      <td>0.005380</td>\n",
       "      <td>0.010300</td>\n",
       "    </tr>\n",
       "    <tr>\n",
       "      <th>50 km</th>\n",
       "      <td>0.011809</td>\n",
       "      <td>0.011361</td>\n",
       "      <td>0.004173</td>\n",
       "      <td>0.002199</td>\n",
       "      <td>0.002199</td>\n",
       "      <td>0.00106</td>\n",
       "      <td>0.00000</td>\n",
       "      <td>0.00000</td>\n",
       "      <td>0.00000</td>\n",
       "      <td>0.00</td>\n",
       "      <td>0.000</td>\n",
       "      <td>0.000</td>\n",
       "      <td>0.00000</td>\n",
       "      <td>0.00401</td>\n",
       "      <td>0.004263</td>\n",
       "      <td>0.008161</td>\n",
       "    </tr>\n",
       "  </tbody>\n",
       "</table>\n",
       "</div>"
      ],
      "text/plain": [
       "              0.0       22.5      45.0      67.5      90.0     112.5    135.0  \\\n",
       "Distance                                                                        \n",
       "300m      10.300000  8.540000  2.740000  1.540000  1.540000  0.83800  1.68000   \n",
       "500m       7.020000  5.730000  1.800000  1.030000  1.030000  0.57200  1.15000   \n",
       "1km        2.960000  2.480000  0.801000  0.452000  0.452000  0.24200  0.48600   \n",
       "1.5 km     1.700000  1.450000  0.479000  0.268000  0.268000  0.13900  0.27800   \n",
       "2 km       1.160000  1.010000  0.341000  0.188000  0.188000  0.09470  0.18900   \n",
       "2.5 km     0.905000  0.801000  0.273000  0.150000  0.150000  0.07340  0.14600   \n",
       "3 km       0.732000  0.655000  0.226000  0.123000  0.123000  0.05910  0.11700   \n",
       "3.5 km     0.623000  0.564000  0.197000  0.107000  0.107000  0.05030  0.09910   \n",
       "4 km       0.533000  0.487000  0.171000  0.092400  0.092400  0.04290  0.08440   \n",
       "4.5 km     0.469000  0.431000  0.153000  0.082100  0.082100  0.03770  0.07400   \n",
       "5 km       0.420000  0.389000  0.139000  0.074200  0.074200  0.03380  0.06620   \n",
       "6 km       0.336000  0.313000  0.113000  0.060100  0.060100  0.02690  0.05260   \n",
       "7 km       0.281000  0.264000  0.095400  0.050800  0.050800  0.02250  0.04390   \n",
       "8 km       0.239000  0.225000  0.081800  0.043400  0.043400  0.01910  0.03720   \n",
       "9 km       0.205000  0.194000  0.070600  0.037400  0.037400  0.01640  0.03180   \n",
       "10 km      0.179000  0.170000  0.062100  0.032900  0.032900  0.01430  0.02780   \n",
       "12 km      0.137000  0.130000  0.047800  0.025200  0.025200  0.01090  0.02120   \n",
       "15 km      0.100000  0.095600  0.035200  0.018500  0.018500  0.00798  0.01540   \n",
       "17 km      0.081800  0.078200  0.028800  0.015200  0.015200  0.00652  0.01260   \n",
       "20 km      0.063600  0.060800  0.022400  0.011800  0.011800  0.00506  0.00979   \n",
       "22 km      0.054000  0.051700  0.019100  0.010000  0.010000  0.00430  0.00832   \n",
       "25 km      0.043700  0.041900  0.015400  0.008130  0.008130  0.00348  0.00000   \n",
       "27km       0.038100  0.036400  0.013400  0.007070  0.007070  0.00000  0.00000   \n",
       "30 km      0.031600  0.030300  0.011200  0.005870  0.005870  0.00000  0.00000   \n",
       "35 km      0.024000  0.022900  0.008460  0.004450  0.004450  0.00000  0.00000   \n",
       "40 km      0.018800  0.018000  0.006630  0.003490  0.003490  0.00277  0.00000   \n",
       "45 km      0.014900  0.014300  0.005260  0.002770  0.002770  0.00119  0.00000   \n",
       "50 km      0.011809  0.011361  0.004173  0.002199  0.002199  0.00106  0.00000   \n",
       "\n",
       "            157.5    180.0  202.5  225.0  247.5    270.0    292.5     315.0  \\\n",
       "Distance                                                                      \n",
       "300m      1.68000  3.50000   8.66  3.670  3.800  4.29000  3.94000  3.640000   \n",
       "500m      1.15000  2.52000   6.27  2.570  2.590  2.96000  2.71000  2.470000   \n",
       "1km       0.48600  1.02000   2.51  1.060  1.080  1.21000  1.11000  1.040000   \n",
       "1.5 km    0.27800  0.00000   1.35  0.589  0.616  0.68000  0.62900  0.600000   \n",
       "2 km      0.18900  0.00000   0.00  0.387  0.419  0.45600  0.42500  0.412000   \n",
       "2.5 km    0.09450  0.00000   0.00  0.290  0.324  0.34800  0.32600  0.321000   \n",
       "3 km      0.00000  0.00000   0.00  0.000  0.000  0.00000  0.26100  0.260000   \n",
       "3.5 km    0.00000  0.00000   0.00  0.000  0.000  0.00000  0.22000  0.222000   \n",
       "4 km      0.00000  0.00000   0.00  0.000  0.000  0.00000  0.18700  0.190000   \n",
       "4.5 km    0.00000  0.00000   0.00  0.000  0.000  0.00000  0.16400  0.168000   \n",
       "5 km      0.00000  0.00000   0.00  0.000  0.000  0.00000  0.14600  0.151000   \n",
       "6 km      0.00000  0.00000   0.00  0.000  0.000  0.00000  0.11600  0.121000   \n",
       "7 km      0.00000  0.00000   0.00  0.000  0.000  0.00000  0.09670  0.101000   \n",
       "8 km      0.00000  0.00000   0.00  0.000  0.000  0.00000  0.08190  0.086000   \n",
       "9 km      0.03180  0.00000   0.00  0.000  0.000  0.00000  0.07000  0.073800   \n",
       "10 km     0.02780  0.00000   0.00  0.000  0.000  0.00000  0.06110  0.064600   \n",
       "12 km     0.02120  0.00000   0.00  0.000  0.000  0.04790  0.04660  0.049400   \n",
       "15 km     0.01540  0.00000   0.00  0.000  0.000  0.03480  0.03400  0.036200   \n",
       "17 km     0.01260  0.00000   0.00  0.000  0.000  0.02840  0.02780  0.029600   \n",
       "20 km     0.00979  0.00000   0.00  0.000  0.000  0.02210  0.02160  0.023000   \n",
       "22 km     0.00832  0.01020   0.00  0.000  0.000  0.01870  0.01830  0.019500   \n",
       "25 km     0.00000  0.00828   0.00  0.000  0.000  0.01520  0.01480  0.015800   \n",
       "27km      0.00000  0.00721   0.00  0.000  0.000  0.01320  0.01290  0.013800   \n",
       "30 km     0.00000  0.00000   0.00  0.000  0.000  0.01100  0.01070  0.011400   \n",
       "35 km     0.00000  0.00000   0.00  0.000  0.000  0.00831  0.00812  0.008670   \n",
       "40 km     0.00000  0.00000   0.00  0.000  0.000  0.00000  0.00636  0.006790   \n",
       "45 km     0.00000  0.00000   0.00  0.000  0.000  0.00000  0.00505  0.005380   \n",
       "50 km     0.00000  0.00000   0.00  0.000  0.000  0.00000  0.00401  0.004263   \n",
       "\n",
       "             337.5  \n",
       "Distance            \n",
       "300m      6.750000  \n",
       "500m      4.570000  \n",
       "1km       1.950000  \n",
       "1.5 km    1.130000  \n",
       "2 km      0.778000  \n",
       "2.5 km    0.608000  \n",
       "3 km      0.494000  \n",
       "3.5 km    0.422000  \n",
       "4 km      0.362000  \n",
       "4.5 km    0.319000  \n",
       "5 km      0.287000  \n",
       "6 km      0.230000  \n",
       "7 km      0.193000  \n",
       "8 km      0.164000  \n",
       "9 km      0.141000  \n",
       "10 km     0.123000  \n",
       "12 km     0.094500  \n",
       "15 km     0.069100  \n",
       "17 km     0.056500  \n",
       "20 km     0.043900  \n",
       "22 km     0.037300  \n",
       "25 km     0.030200  \n",
       "27km      0.026300  \n",
       "30 km     0.021800  \n",
       "35 km     0.016600  \n",
       "40 km     0.013000  \n",
       "45 km     0.010300  \n",
       "50 km     0.008161  "
      ]
     },
     "execution_count": 9,
     "metadata": {},
     "output_type": "execute_result"
    }
   ],
   "source": [
    "dfA_raw = pd.read_excel('C:/Users/Adek/Desktop/New folder (2)/adult.xlsx')\n",
    "dfA_raw.set_index('Distance',drop=True,inplace=True)\n",
    "dfA_raw=dfA_raw.reindex(sorted(dfA_raw.columns),axis=1)\n",
    "dfA_raw"
   ]
  },
  {
   "cell_type": "code",
   "execution_count": 10,
   "metadata": {},
   "outputs": [
    {
     "data": {
      "text/plain": [
       "<matplotlib.legend.Legend at 0x2067e219370>"
      ]
     },
     "execution_count": 10,
     "metadata": {},
     "output_type": "execute_result"
    },
    {
     "data": {
      "image/png": "[encoded data removed]",
      "text/plain": [
       "<Figure size 3000x2000 with 1 Axes>"
      ]
     },
     "metadata": {
      "needs_background": "light"
     },
     "output_type": "display_data"
    }
   ],
   "source": [
    "plt.rcParams['figure.dpi']=500\n",
    "dfA_raw.T.plot.bar(stacked=True)\n",
    "plt.legend(loc='center right',bbox_to_anchor=(1.259,0.46253))"
   ]
  },
  {
   "cell_type": "code",
   "execution_count": 11,
   "metadata": {},
   "outputs": [
    {
     "data": {
      "application/vnd.plotly.v1+json": {
       "config": {
        "plotlyServerURL": "https://plot.ly"
       },
       "data": [
        {
         "name": "300m",
         "r": [
          10.3,
          8.54,
          2.74,
          1.54,
          1.54,
          0.838,
          1.68,
          1.68,
          3.5,
          8.66,
          3.67,
          3.8,
          4.29,
          3.94,
          3.64,
          6.75
         ],
         "text": [
          "0.0",
          "22.5",
          "45.0",
          "67.5",
          "90.0",
          "112.5",
          "135.0",
          "157.5",
          "180.0",
          "202.5",
          "225.0",
          "247.5",
          "270.0",
          "292.5",
          "315.0",
          "337.5"
         ],
         "type": "barpolar"
        },
        {
         "name": "500m",
         "r": [
          7.02,
          5.73,
          1.8,
          1.03,
          1.03,
          0.572,
          1.15,
          1.15,
          2.52,
          6.27,
          2.57,
          2.59,
          2.96,
          2.71,
          2.47,
          4.57
         ],
         "text": [
          "0.0",
          "22.5",
          "45.0",
          "67.5",
          "90.0",
          "112.5",
          "135.0",
          "157.5",
          "180.0",
          "202.5",
          "225.0",
          "247.5",
          "270.0",
          "292.5",
          "315.0",
          "337.5"
         ],
         "type": "barpolar"
        },
        {
         "name": "1km",
         "r": [
          2.96,
          2.48,
          0.801,
          0.452,
          0.452,
          0.242,
          0.486,
          0.486,
          1.02,
          2.51,
          1.06,
          1.08,
          1.21,
          1.11,
          1.04,
          1.95
         ],
         "text": [
          "0.0",
          "22.5",
          "45.0",
          "67.5",
          "90.0",
          "112.5",
          "135.0",
          "157.5",
          "180.0",
          "202.5",
          "225.0",
          "247.5",
          "270.0",
          "292.5",
          "315.0",
          "337.5"
         ],
         "type": "barpolar"
        },
        {
         "name": "1.5 km",
         "r": [
          1.7,
          1.45,
          0.479,
          0.268,
          0.268,
          0.139,
          0.278,
          0.278,
          0,
          1.35,
          0.589,
          0.616,
          0.68,
          0.629,
          0.6,
          1.13
         ],
         "text": [
          "0.0",
          "22.5",
          "45.0",
          "67.5",
          "90.0",
          "112.5",
          "135.0",
          "157.5",
          "180.0",
          "202.5",
          "225.0",
          "247.5",
          "270.0",
          "292.5",
          "315.0",
          "337.5"
         ],
         "type": "barpolar"
        },
        {
         "name": "2 km",
         "r": [
          1.16,
          1.01,
          0.341,
          0.188,
          0.188,
          0.0947,
          0.189,
          0.189,
          0,
          0,
          0.387,
          0.419,
          0.456,
          0.425,
          0.412,
          0.778
         ],
         "text": [
          "0.0",
          "22.5",
          "45.0",
          "67.5",
          "90.0",
          "112.5",
          "135.0",
          "157.5",
          "180.0",
          "202.5",
          "225.0",
          "247.5",
          "270.0",
          "292.5",
          "315.0",
          "337.5"
         ],
         "type": "barpolar"
        },
        {
         "name": "2.5 km",
         "r": [
          0.905,
          0.801,
          0.273,
          0.15,
          0.15,
          0.0734,
          0.146,
          0.0945,
          0,
          0,
          0.29,
          0.324,
          0.348,
          0.326,
          0.321,
          0.608
         ],
         "text": [
          "0.0",
          "22.5",
          "45.0",
          "67.5",
          "90.0",
          "112.5",
          "135.0",
          "157.5",
          "180.0",
          "202.5",
          "225.0",
          "247.5",
          "270.0",
          "292.5",
          "315.0",
          "337.5"
         ],
         "type": "barpolar"
        },
        {
         "name": "3 km",
         "r": [
          0.732,
          0.655,
          0.226,
          0.123,
          0.123,
          0.0591,
          0.117,
          0,
          0,
          0,
          0,
          0,
          0,
          0.261,
          0.26,
          0.494
         ],
         "text": [
          "0.0",
          "22.5",
          "45.0",
          "67.5",
          "90.0",
          "112.5",
          "135.0",
          "157.5",
          "180.0",
          "202.5",
          "225.0",
          "247.5",
          "270.0",
          "292.5",
          "315.0",
          "337.5"
         ],
         "type": "barpolar"
        },
        {
         "name": "3.5 km",
         "r": [
          0.623,
          0.564,
          0.197,
          0.107,
          0.107,
          0.0503,
          0.0991,
          0,
          0,
          0,
          0,
          0,
          0,
          0.22,
          0.222,
          0.422
         ],
         "text": [
          "0.0",
          "22.5",
          "45.0",
          "67.5",
          "90.0",
          "112.5",
          "135.0",
          "157.5",
          "180.0",
          "202.5",
          "225.0",
          "247.5",
          "270.0",
          "292.5",
          "315.0",
          "337.5"
         ],
         "type": "barpolar"
        },
        {
         "name": "4 km",
         "r": [
          0.533,
          0.487,
          0.171,
          0.0924,
          0.0924,
          0.0429,
          0.0844,
          0,
          0,
          0,
          0,
          0,
          0,
          0.187,
          0.19,
          0.362
         ],
         "text": [
          "0.0",
          "22.5",
          "45.0",
          "67.5",
          "90.0",
          "112.5",
          "135.0",
          "157.5",
          "180.0",
          "202.5",
          "225.0",
          "247.5",
          "270.0",
          "292.5",
          "315.0",
          "337.5"
         ],
         "type": "barpolar"
        },
        {
         "name": "4.5 km",
         "r": [
          0.469,
          0.431,
          0.153,
          0.0821,
          0.0821,
          0.0377,
          0.074,
          0,
          0,
          0,
          0,
          0,
          0,
          0.164,
          0.168,
          0.319
         ],
         "text": [
          "0.0",
          "22.5",
          "45.0",
          "67.5",
          "90.0",
          "112.5",
          "135.0",
          "157.5",
          "180.0",
          "202.5",
          "225.0",
          "247.5",
          "270.0",
          "292.5",
          "315.0",
          "337.5"
         ],
         "type": "barpolar"
        },
        {
         "name": "5 km",
         "r": [
          0.42,
          0.389,
          0.139,
          0.0742,
          0.0742,
          0.0338,
          0.0662,
          0,
          0,
          0,
          0,
          0,
          0,
          0.146,
          0.151,
          0.287
         ],
         "text": [
          "0.0",
          "22.5",
          "45.0",
          "67.5",
          "90.0",
          "112.5",
          "135.0",
          "157.5",
          "180.0",
          "202.5",
          "225.0",
          "247.5",
          "270.0",
          "292.5",
          "315.0",
          "337.5"
         ],
         "type": "barpolar"
        },
        {
         "name": "6 km",
         "r": [
          0.336,
          0.313,
          0.113,
          0.0601,
          0.0601,
          0.0269,
          0.0526,
          0,
          0,
          0,
          0,
          0,
          0,
          0.116,
          0.121,
          0.23
         ],
         "text": [
          "0.0",
          "22.5",
          "45.0",
          "67.5",
          "90.0",
          "112.5",
          "135.0",
          "157.5",
          "180.0",
          "202.5",
          "225.0",
          "247.5",
          "270.0",
          "292.5",
          "315.0",
          "337.5"
         ],
         "type": "barpolar"
        },
        {
         "name": "7 km",
         "r": [
          0.281,
          0.264,
          0.0954,
          0.0508,
          0.0508,
          0.0225,
          0.0439,
          0,
          0,
          0,
          0,
          0,
          0,
          0.0967,
          0.101,
          0.193
         ],
         "text": [
          "0.0",
          "22.5",
          "45.0",
          "67.5",
          "90.0",
          "112.5",
          "135.0",
          "157.5",
          "180.0",
          "202.5",
          "225.0",
          "247.5",
          "270.0",
          "292.5",
          "315.0",
          "337.5"
         ],
         "type": "barpolar"
        },
        {
         "name": "8 km",
         "r": [
          0.239,
          0.225,
          0.0818,
          0.0434,
          0.0434,
          0.0191,
          0.0372,
          0,
          0,
          0,
          0,
          0,
          0,
          0.0819,
          0.086,
          0.164
         ],
         "text": [
          "0.0",
          "22.5",
          "45.0",
          "67.5",
          "90.0",
          "112.5",
          "135.0",
          "157.5",
          "180.0",
          "202.5",
          "225.0",
          "247.5",
          "270.0",
          "292.5",
          "315.0",
          "337.5"
         ],
         "type": "barpolar"
        },
        {
         "name": "9 km",
         "r": [
          0.205,
          0.194,
          0.0706,
          0.0374,
          0.0374,
          0.0164,
          0.0318,
          0.0318,
          0,
          0,
          0,
          0,
          0,
          0.07,
          0.0738,
          0.141
         ],
         "text": [
          "0.0",
          "22.5",
          "45.0",
          "67.5",
          "90.0",
          "112.5",
          "135.0",
          "157.5",
          "180.0",
          "202.5",
          "225.0",
          "247.5",
          "270.0",
          "292.5",
          "315.0",
          "337.5"
         ],
         "type": "barpolar"
        },
        {
         "name": "10 km",
         "r": [
          0.179,
          0.17,
          0.0621,
          0.0329,
          0.0329,
          0.0143,
          0.0278,
          0.0278,
          0,
          0,
          0,
          0,
          0,
          0.0611,
          0.0646,
          0.123
         ],
         "text": [
          "0.0",
          "22.5",
          "45.0",
          "67.5",
          "90.0",
          "112.5",
          "135.0",
          "157.5",
          "180.0",
          "202.5",
          "225.0",
          "247.5",
          "270.0",
          "292.5",
          "315.0",
          "337.5"
         ],
         "type": "barpolar"
        },
        {
         "name": "12 km",
         "r": [
          0.137,
          0.13,
          0.0478,
          0.0252,
          0.0252,
          0.0109,
          0.0212,
          0.0212,
          0,
          0,
          0,
          0,
          0.0479,
          0.0466,
          0.0494,
          0.0945
         ],
         "text": [
          "0.0",
          "22.5",
          "45.0",
          "67.5",
          "90.0",
          "112.5",
          "135.0",
          "157.5",
          "180.0",
          "202.5",
          "225.0",
          "247.5",
          "270.0",
          "292.5",
          "315.0",
          "337.5"
         ],
         "type": "barpolar"
        },
        {
         "name": "15 km",
         "r": [
          0.1,
          0.0956,
          0.0352,
          0.0185,
          0.0185,
          0.00798,
          0.0154,
          0.0154,
          0,
          0,
          0,
          0,
          0.0348,
          0.034,
          0.0362,
          0.0691
         ],
         "text": [
          "0.0",
          "22.5",
          "45.0",
          "67.5",
          "90.0",
          "112.5",
          "135.0",
          "157.5",
          "180.0",
          "202.5",
          "225.0",
          "247.5",
          "270.0",
          "292.5",
          "315.0",
          "337.5"
         ],
         "type": "barpolar"
        },
        {
         "name": "17 km",
         "r": [
          0.0818,
          0.0782,
          0.0288,
          0.0152,
          0.0152,
          0.00652,
          0.0126,
          0.0126,
          0,
          0,
          0,
          0,
          0.0284,
          0.0278,
          0.0296,
          0.0565
         ],
         "text": [
          "0.0",
          "22.5",
          "45.0",
          "67.5",
          "90.0",
          "112.5",
          "135.0",
          "157.5",
          "180.0",
          "202.5",
          "225.0",
          "247.5",
          "270.0",
          "292.5",
          "315.0",
          "337.5"
         ],
         "type": "barpolar"
        },
        {
         "name": "20 km",
         "r": [
          0.0636,
          0.0608,
          0.0224,
          0.0118,
          0.0118,
          0.00506,
          0.00979,
          0.00979,
          0,
          0,
          0,
          0,
          0.0221,
          0.0216,
          0.023,
          0.0439
         ],
         "text": [
          "0.0",
          "22.5",
          "45.0",
          "67.5",
          "90.0",
          "112.5",
          "135.0",
          "157.5",
          "180.0",
          "202.5",
          "225.0",
          "247.5",
          "270.0",
          "292.5",
          "315.0",
          "337.5"
         ],
         "type": "barpolar"
        },
        {
         "name": "22 km",
         "r": [
          0.054,
          0.0517,
          0.0191,
          0.01,
          0.01,
          0.0043,
          0.00832,
          0.00832,
          0.0102,
          0,
          0,
          0,
          0.0187,
          0.0183,
          0.0195,
          0.0373
         ],
         "text": [
          "0.0",
          "22.5",
          "45.0",
          "67.5",
          "90.0",
          "112.5",
          "135.0",
          "157.5",
          "180.0",
          "202.5",
          "225.0",
          "247.5",
          "270.0",
          "292.5",
          "315.0",
          "337.5"
         ],
         "type": "barpolar"
        },
        {
         "name": "25 km",
         "r": [
          0.0437,
          0.0419,
          0.0154,
          0.00813,
          0.00813,
          0.00348,
          0,
          0,
          0.00828,
          0,
          0,
          0,
          0.0152,
          0.0148,
          0.0158,
          0.0302
         ],
         "text": [
          "0.0",
          "22.5",
          "45.0",
          "67.5",
          "90.0",
          "112.5",
          "135.0",
          "157.5",
          "180.0",
          "202.5",
          "225.0",
          "247.5",
          "270.0",
          "292.5",
          "315.0",
          "337.5"
         ],
         "type": "barpolar"
        },
        {
         "name": "27km",
         "r": [
          0.0381,
          0.0364,
          0.0134,
          0.00707,
          0.00707,
          0,
          0,
          0,
          0.00721,
          0,
          0,
          0,
          0.0132,
          0.0129,
          0.0138,
          0.0263
         ],
         "text": [
          "0.0",
          "22.5",
          "45.0",
          "67.5",
          "90.0",
          "112.5",
          "135.0",
          "157.5",
          "180.0",
          "202.5",
          "225.0",
          "247.5",
          "270.0",
          "292.5",
          "315.0",
          "337.5"
         ],
         "type": "barpolar"
        },
        {
         "name": "30 km",
         "r": [
          0.0316,
          0.0303,
          0.0112,
          0.00587,
          0.00587,
          0,
          0,
          0,
          0,
          0,
          0,
          0,
          0.011,
          0.0107,
          0.0114,
          0.0218
         ],
         "text": [
          "0.0",
          "22.5",
          "45.0",
          "67.5",
          "90.0",
          "112.5",
          "135.0",
          "157.5",
          "180.0",
          "202.5",
          "225.0",
          "247.5",
          "270.0",
          "292.5",
          "315.0",
          "337.5"
         ],
         "type": "barpolar"
        },
        {
         "name": "35 km",
         "r": [
          0.024,
          0.0229,
          0.00846,
          0.00445,
          0.00445,
          0,
          0,
          0,
          0,
          0,
          0,
          0,
          0.00831,
          0.00812,
          0.00867,
          0.0166
         ],
         "text": [
          "0.0",
          "22.5",
          "45.0",
          "67.5",
          "90.0",
          "112.5",
          "135.0",
          "157.5",
          "180.0",
          "202.5",
          "225.0",
          "247.5",
          "270.0",
          "292.5",
          "315.0",
          "337.5"
         ],
         "type": "barpolar"
        },
        {
         "name": "40 km",
         "r": [
          0.0188,
          0.018,
          0.00663,
          0.00349,
          0.00349,
          0.00277,
          0,
          0,
          0,
          0,
          0,
          0,
          0,
          0.00636,
          0.00679,
          0.013
         ],
         "text": [
          "0.0",
          "22.5",
          "45.0",
          "67.5",
          "90.0",
          "112.5",
          "135.0",
          "157.5",
          "180.0",
          "202.5",
          "225.0",
          "247.5",
          "270.0",
          "292.5",
          "315.0",
          "337.5"
         ],
         "type": "barpolar"
        },
        {
         "name": "45 km",
         "r": [
          0.0149,
          0.0143,
          0.00526,
          0.00277,
          0.00277,
          0.00119,
          0,
          0,
          0,
          0,
          0,
          0,
          0,
          0.00505,
          0.00538,
          0.0103
         ],
         "text": [
          "0.0",
          "22.5",
          "45.0",
          "67.5",
          "90.0",
          "112.5",
          "135.0",
          "157.5",
          "180.0",
          "202.5",
          "225.0",
          "247.5",
          "270.0",
          "292.5",
          "315.0",
          "337.5"
         ],
         "type": "barpolar"
        },
        {
         "name": "50 km",
         "r": [
          0.011809042553191488,
          0.011360555555555556,
          0.004173092006033182,
          0.002198538681948424,
          0.002198538681948424,
          0.00106,
          0,
          0,
          0,
          0,
          0,
          0,
          0,
          0.004009827044025157,
          0.004262798232695141,
          0.008160769230769232
         ],
         "text": [
          "0.0",
          "22.5",
          "45.0",
          "67.5",
          "90.0",
          "112.5",
          "135.0",
          "157.5",
          "180.0",
          "202.5",
          "225.0",
          "247.5",
          "270.0",
          "292.5",
          "315.0",
          "337.5"
         ],
         "type": "barpolar"
        }
       ],
       "layout": {
        "autosize": false,
        "font": {
         "size": 16
        },
        "height": 860,
        "legend": {
         "font": {
          "size": 16
         }
        },
        "template": {
         "data": {
          "bar": [
           {
            "error_x": {
             "color": "#2a3f5f"
            },
            "error_y": {
             "color": "#2a3f5f"
            },
            "marker": {
             "line": {
              "color": "#E5ECF6",
              "width": 0.5
             },
             "pattern": {
              "fillmode": "overlay",
              "size": 10,
              "solidity": 0.2
             }
            },
            "type": "bar"
           }
          ],
          "barpolar": [
           {
            "marker": {
             "line": {
              "color": "#E5ECF6",
              "width": 0.5
             },
             "pattern": {
              "fillmode": "overlay",
              "size": 10,
              "solidity": 0.2
             }
            },
            "type": "barpolar"
           }
          ],
          "carpet": [
           {
            "aaxis": {
             "endlinecolor": "#2a3f5f",
             "gridcolor": "white",
             "linecolor": "white",
             "minorgridcolor": "white",
             "startlinecolor": "#2a3f5f"
            },
            "baxis": {
             "endlinecolor": "#2a3f5f",
             "gridcolor": "white",
             "linecolor": "white",
             "minorgridcolor": "white",
             "startlinecolor": "#2a3f5f"
            },
            "type": "carpet"
           }
          ],
          "choropleth": [
           {
            "colorbar": {
             "outlinewidth": 0,
             "ticks": ""
            },
            "type": "choropleth"
           }
          ],
          "contour": [
           {
            "colorbar": {
             "outlinewidth": 0,
             "ticks": ""
            },
            "colorscale": [
             [
              0,
              "#0d0887"
             ],
             [
              0.1111111111111111,
              "#46039f"
             ],
             [
              0.2222222222222222,
              "#7201a8"
             ],
             [
              0.3333333333333333,
              "#9c179e"
             ],
             [
              0.4444444444444444,
              "#bd3786"
             ],
             [
              0.5555555555555556,
              "#d8576b"
             ],
             [
              0.6666666666666666,
              "#ed7953"
             ],
             [
              0.7777777777777778,
              "#fb9f3a"
             ],
             [
              0.8888888888888888,
              "#fdca26"
             ],
             [
              1,
              "#f0f921"
             ]
            ],
            "type": "contour"
           }
          ],
          "contourcarpet": [
           {
            "colorbar": {
             "outlinewidth": 0,
             "ticks": ""
            },
            "type": "contourcarpet"
           }
          ],
          "heatmap": [
           {
            "colorbar": {
             "outlinewidth": 0,
             "ticks": ""
            },
            "colorscale": [
             [
              0,
              "#0d0887"
             ],
             [
              0.1111111111111111,
              "#46039f"
             ],
             [
              0.2222222222222222,
              "#7201a8"
             ],
             [
              0.3333333333333333,
              "#9c179e"
             ],
             [
              0.4444444444444444,
              "#bd3786"
             ],
             [
              0.5555555555555556,
              "#d8576b"
             ],
             [
              0.6666666666666666,
              "#ed7953"
             ],
             [
              0.7777777777777778,
              "#fb9f3a"
             ],
             [
              0.8888888888888888,
              "#fdca26"
             ],
             [
              1,
              "#f0f921"
             ]
            ],
            "type": "heatmap"
           }
          ],
          "heatmapgl": [
           {
            "colorbar": {
             "outlinewidth": 0,
             "ticks": ""
            },
            "colorscale": [
             [
              0,
              "#0d0887"
             ],
             [
              0.1111111111111111,
              "#46039f"
             ],
             [
              0.2222222222222222,
              "#7201a8"
             ],
             [
              0.3333333333333333,
              "#9c179e"
             ],
             [
              0.4444444444444444,
              "#bd3786"
             ],
             [
              0.5555555555555556,
              "#d8576b"
             ],
             [
              0.6666666666666666,
              "#ed7953"
             ],
             [
              0.7777777777777778,
              "#fb9f3a"
             ],
             [
              0.8888888888888888,
              "#fdca26"
             ],
             [
              1,
              "#f0f921"
             ]
            ],
            "type": "heatmapgl"
           }
          ],
          "histogram": [
           {
            "marker": {
             "pattern": {
              "fillmode": "overlay",
              "size": 10,
              "solidity": 0.2
             }
            },
            "type": "histogram"
           }
          ],
          "histogram2d": [
           {
            "colorbar": {
             "outlinewidth": 0,
             "ticks": ""
            },
            "colorscale": [
             [
              0,
              "#0d0887"
             ],
             [
              0.1111111111111111,
              "#46039f"
             ],
             [
              0.2222222222222222,
              "#7201a8"
             ],
             [
              0.3333333333333333,
              "#9c179e"
             ],
             [
              0.4444444444444444,
              "#bd3786"
             ],
             [
              0.5555555555555556,
              "#d8576b"
             ],
             [
              0.6666666666666666,
              "#ed7953"
             ],
             [
              0.7777777777777778,
              "#fb9f3a"
             ],
             [
              0.8888888888888888,
              "#fdca26"
             ],
             [
              1,
              "#f0f921"
             ]
            ],
            "type": "histogram2d"
           }
          ],
          "histogram2dcontour": [
           {
            "colorbar": {
             "outlinewidth": 0,
             "ticks": ""
            },
            "colorscale": [
             [
              0,
              "#0d0887"
             ],
             [
              0.1111111111111111,
              "#46039f"
             ],
             [
              0.2222222222222222,
              "#7201a8"
             ],
             [
              0.3333333333333333,
              "#9c179e"
             ],
             [
              0.4444444444444444,
              "#bd3786"
             ],
             [
              0.5555555555555556,
              "#d8576b"
             ],
             [
              0.6666666666666666,
              "#ed7953"
             ],
             [
              0.7777777777777778,
              "#fb9f3a"
             ],
             [
              0.8888888888888888,
              "#fdca26"
             ],
             [
              1,
              "#f0f921"
             ]
            ],
            "type": "histogram2dcontour"
           }
          ],
          "mesh3d": [
           {
            "colorbar": {
             "outlinewidth": 0,
             "ticks": ""
            },
            "type": "mesh3d"
           }
          ],
          "parcoords": [
           {
            "line": {
             "colorbar": {
              "outlinewidth": 0,
              "ticks": ""
             }
            },
            "type": "parcoords"
           }
          ],
          "pie": [
           {
            "automargin": true,
            "type": "pie"
           }
          ],
          "scatter": [
           {
            "fillpattern": {
             "fillmode": "overlay",
             "size": 10,
             "solidity": 0.2
            },
            "type": "scatter"
           }
          ],
          "scatter3d": [
           {
            "line": {
             "colorbar": {
              "outlinewidth": 0,
              "ticks": ""
             }
            },
            "marker": {
             "colorbar": {
              "outlinewidth": 0,
              "ticks": ""
             }
            },
            "type": "scatter3d"
           }
          ],
          "scattercarpet": [
           {
            "marker": {
             "colorbar": {
              "outlinewidth": 0,
              "ticks": ""
             }
            },
            "type": "scattercarpet"
           }
          ],
          "scattergeo": [
           {
            "marker": {
             "colorbar": {
              "outlinewidth": 0,
              "ticks": ""
             }
            },
            "type": "scattergeo"
           }
          ],
          "scattergl": [
           {
            "marker": {
             "colorbar": {
              "outlinewidth": 0,
              "ticks": ""
             }
            },
            "type": "scattergl"
           }
          ],
          "scattermapbox": [
           {
            "marker": {
             "colorbar": {
              "outlinewidth": 0,
              "ticks": ""
             }
            },
            "type": "scattermapbox"
           }
          ],
          "scatterpolar": [
           {
            "marker": {
             "colorbar": {
              "outlinewidth": 0,
              "ticks": ""
             }
            },
            "type": "scatterpolar"
           }
          ],
          "scatterpolargl": [
           {
            "marker": {
             "colorbar": {
              "outlinewidth": 0,
              "ticks": ""
             }
            },
            "type": "scatterpolargl"
           }
          ],
          "scatterternary": [
           {
            "marker": {
             "colorbar": {
              "outlinewidth": 0,
              "ticks": ""
             }
            },
            "type": "scatterternary"
           }
          ],
          "surface": [
           {
            "colorbar": {
             "outlinewidth": 0,
             "ticks": ""
            },
            "colorscale": [
             [
              0,
              "#0d0887"
             ],
             [
              0.1111111111111111,
              "#46039f"
             ],
             [
              0.2222222222222222,
              "#7201a8"
             ],
             [
              0.3333333333333333,
              "#9c179e"
             ],
             [
              0.4444444444444444,
              "#bd3786"
             ],
             [
              0.5555555555555556,
              "#d8576b"
             ],
             [
              0.6666666666666666,
              "#ed7953"
             ],
             [
              0.7777777777777778,
              "#fb9f3a"
             ],
             [
              0.8888888888888888,
              "#fdca26"
             ],
             [
              1,
              "#f0f921"
             ]
            ],
            "type": "surface"
           }
          ],
          "table": [
           {
            "cells": {
             "fill": {
              "color": "#EBF0F8"
             },
             "line": {
              "color": "white"
             }
            },
            "header": {
             "fill": {
              "color": "#C8D4E3"
             },
             "line": {
              "color": "white"
             }
            },
            "type": "table"
           }
          ]
         },
         "layout": {
          "annotationdefaults": {
           "arrowcolor": "#2a3f5f",
           "arrowhead": 0,
           "arrowwidth": 1
          },
          "autotypenumbers": "strict",
          "coloraxis": {
           "colorbar": {
            "outlinewidth": 0,
            "ticks": ""
           }
          },
          "colorscale": {
           "diverging": [
            [
             0,
             "#8e0152"
            ],
            [
             0.1,
             "#c51b7d"
            ],
            [
             0.2,
             "#de77ae"
            ],
            [
             0.3,
             "#f1b6da"
            ],
            [
             0.4,
             "#fde0ef"
            ],
            [
             0.5,
             "#f7f7f7"
            ],
            [
             0.6,
             "#e6f5d0"
            ],
            [
             0.7,
             "#b8e186"
            ],
            [
             0.8,
             "#7fbc41"
            ],
            [
             0.9,
             "#4d9221"
            ],
            [
             1,
             "#276419"
            ]
           ],
           "sequential": [
            [
             0,
             "#0d0887"
            ],
            [
             0.1111111111111111,
             "#46039f"
            ],
            [
             0.2222222222222222,
             "#7201a8"
            ],
            [
             0.3333333333333333,
             "#9c179e"
            ],
            [
             0.4444444444444444,
             "#bd3786"
            ],
            [
             0.5555555555555556,
             "#d8576b"
            ],
            [
             0.6666666666666666,
             "#ed7953"
            ],
            [
             0.7777777777777778,
             "#fb9f3a"
            ],
            [
             0.8888888888888888,
             "#fdca26"
            ],
            [
             1,
             "#f0f921"
            ]
           ],
           "sequentialminus": [
            [
             0,
             "#0d0887"
            ],
            [
             0.1111111111111111,
             "#46039f"
            ],
            [
             0.2222222222222222,
             "#7201a8"
            ],
            [
             0.3333333333333333,
             "#9c179e"
            ],
            [
             0.4444444444444444,
             "#bd3786"
            ],
            [
             0.5555555555555556,
             "#d8576b"
            ],
            [
             0.6666666666666666,
             "#ed7953"
            ],
            [
             0.7777777777777778,
             "#fb9f3a"
            ],
            [
             0.8888888888888888,
             "#fdca26"
            ],
            [
             1,
             "#f0f921"
            ]
           ]
          },
          "colorway": [
           "#636efa",
           "#EF553B",
           "#00cc96",
           "#ab63fa",
           "#FFA15A",
           "#19d3f3",
           "#FF6692",
           "#B6E880",
           "#FF97FF",
           "#FECB52"
          ],
          "font": {
           "color": "#2a3f5f"
          },
          "geo": {
           "bgcolor": "white",
           "lakecolor": "white",
           "landcolor": "#E5ECF6",
           "showlakes": true,
           "showland": true,
           "subunitcolor": "white"
          },
          "hoverlabel": {
           "align": "left"
          },
          "hovermode": "closest",
          "mapbox": {
           "style": "light"
          },
          "paper_bgcolor": "white",
          "plot_bgcolor": "#E5ECF6",
          "polar": {
           "angularaxis": {
            "gridcolor": "white",
            "linecolor": "white",
            "ticks": ""
           },
           "bgcolor": "#E5ECF6",
           "radialaxis": {
            "gridcolor": "white",
            "linecolor": "white",
            "ticks": ""
           }
          },
          "scene": {
           "xaxis": {
            "backgroundcolor": "#E5ECF6",
            "gridcolor": "white",
            "gridwidth": 2,
            "linecolor": "white",
            "showbackground": true,
            "ticks": "",
            "zerolinecolor": "white"
           },
           "yaxis": {
            "backgroundcolor": "#E5ECF6",
            "gridcolor": "white",
            "gridwidth": 2,
            "linecolor": "white",
            "showbackground": true,
            "ticks": "",
            "zerolinecolor": "white"
           },
           "zaxis": {
            "backgroundcolor": "#E5ECF6",
            "gridcolor": "white",
            "gridwidth": 2,
            "linecolor": "white",
            "showbackground": true,
            "ticks": "",
            "zerolinecolor": "white"
           }
          },
          "shapedefaults": {
           "line": {
            "color": "#2a3f5f"
           }
          },
          "ternary": {
           "aaxis": {
            "gridcolor": "white",
            "linecolor": "white",
            "ticks": ""
           },
           "baxis": {
            "gridcolor": "white",
            "linecolor": "white",
            "ticks": ""
           },
           "bgcolor": "#E5ECF6",
           "caxis": {
            "gridcolor": "white",
            "linecolor": "white",
            "ticks": ""
           }
          },
          "title": {
           "x": 0.05
          },
          "xaxis": {
           "automargin": true,
           "gridcolor": "white",
           "linecolor": "white",
           "ticks": "",
           "title": {
            "standoff": 15
           },
           "zerolinecolor": "white",
           "zerolinewidth": 2
          },
          "yaxis": {
           "automargin": true,
           "gridcolor": "white",
           "linecolor": "white",
           "ticks": "",
           "title": {
            "standoff": 15
           },
           "zerolinecolor": "white",
           "zerolinewidth": 2
          }
         }
        },
        "title": {
         "text": "Adult"
        },
        "width": 1000
       }
      }
     },
     "metadata": {},
     "output_type": "display_data"
    }
   ],
   "source": [
    "fig = go.Figure()\n",
    "for row in list(dfA_raw.index):\n",
    "    fig.add_trace(go.Barpolar(\n",
    "        r=list(dfA_raw.loc[row]),\n",
    "        name=row\n",
    "    ))\n",
    "fig.update_traces(text=list(dfA_raw.columns))\n",
    "fig.update_layout(\n",
    "    title='Adult',\n",
    "    font_size=16,\n",
    "    legend_font_size=16,\n",
    "    autosize=False,\n",
    "    width=1000,\n",
    "    height=860,\n",
    ")\n",
    "fig.show()"
   ]
  },
  {
   "cell_type": "code",
   "execution_count": null,
   "metadata": {},
   "outputs": [],
   "source": []
  }
 ],
 "metadata": {
  "kernelspec": {
   "display_name": "Python 3.9.7 ('base')",
   "language": "python",
   "name": "python3"
  },
  "language_info": {
   "codemirror_mode": {
    "name": "ipython",
    "version": 3
   },
   "file_extension": ".py",
   "mimetype": "text/x-python",
   "name": "python",
   "nbconvert_exporter": "python",
   "pygments_lexer": "ipython3",
   "version": "3.9.7"
  },
  "orig_nbformat": 4,
  "vscode": {
   "interpreter": {
    "hash": "b85f020f3261b3832007a357f105886fe5d6b8c263cfc3ff52d507ae938e8b52"
   }
  }
 },
 "nbformat": 4,
 "nbformat_minor": 2
}
